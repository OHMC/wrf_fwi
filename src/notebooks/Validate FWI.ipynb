{
 "cells": [
  {
   "cell_type": "code",
   "execution_count": 17,
   "metadata": {},
   "outputs": [],
   "source": [
    "# some_file.py\n",
    "import sys\n",
    "# insert at 1, 0 is the script path (or '' in REPL)\n",
    "sys.path.insert(1, '../')"
   ]
  },
  {
   "cell_type": "code",
   "execution_count": 46,
   "metadata": {},
   "outputs": [],
   "source": [
    "import numpy as np\n",
    "from datetime import datetime\n"
   ]
  },
  {
   "cell_type": "code",
   "execution_count": 18,
   "metadata": {},
   "outputs": [
    {
     "ename": "ImportError",
     "evalue": "cannot import name 'get_dmc' from 'prod.dmc' (../prod/dmc.py)",
     "output_type": "error",
     "traceback": [
      "\u001b[0;31m---------------------------------------------------------------------------\u001b[0m",
      "\u001b[0;31mImportError\u001b[0m                               Traceback (most recent call last)",
      "\u001b[0;32m<ipython-input-18-b4ac411db55e>\u001b[0m in \u001b[0;36m<module>\u001b[0;34m\u001b[0m\n\u001b[1;32m      2\u001b[0m \u001b[0;32mfrom\u001b[0m \u001b[0mprod\u001b[0m\u001b[0;34m.\u001b[0m\u001b[0mbui\u001b[0m \u001b[0;32mimport\u001b[0m \u001b[0mget_bui\u001b[0m\u001b[0;34m\u001b[0m\u001b[0;34m\u001b[0m\u001b[0m\n\u001b[1;32m      3\u001b[0m \u001b[0;32mfrom\u001b[0m \u001b[0mprod\u001b[0m\u001b[0;34m.\u001b[0m\u001b[0mdc\u001b[0m \u001b[0;32mimport\u001b[0m \u001b[0mget_dc\u001b[0m\u001b[0;34m\u001b[0m\u001b[0;34m\u001b[0m\u001b[0m\n\u001b[0;32m----> 4\u001b[0;31m \u001b[0;32mfrom\u001b[0m \u001b[0mprod\u001b[0m\u001b[0;34m.\u001b[0m\u001b[0mdmc\u001b[0m \u001b[0;32mimport\u001b[0m \u001b[0mget_dmc\u001b[0m\u001b[0;34m\u001b[0m\u001b[0;34m\u001b[0m\u001b[0m\n\u001b[0m\u001b[1;32m      5\u001b[0m \u001b[0;32mfrom\u001b[0m \u001b[0mprod\u001b[0m\u001b[0;34m.\u001b[0m\u001b[0misi\u001b[0m \u001b[0;32mimport\u001b[0m \u001b[0mget_isi\u001b[0m\u001b[0;34m\u001b[0m\u001b[0;34m\u001b[0m\u001b[0m\n\u001b[1;32m      6\u001b[0m \u001b[0;32mfrom\u001b[0m \u001b[0mprod\u001b[0m\u001b[0;34m.\u001b[0m\u001b[0mfwi\u001b[0m \u001b[0;32mimport\u001b[0m \u001b[0mget_fwi\u001b[0m\u001b[0;34m\u001b[0m\u001b[0;34m\u001b[0m\u001b[0m\n",
      "\u001b[0;31mImportError\u001b[0m: cannot import name 'get_dmc' from 'prod.dmc' (../prod/dmc.py)"
     ]
    }
   ],
   "source": [
    "from prod.ffmc import get_ffmc\n",
    "from prod.bui import get_bui\n",
    "from prod.dc import get_dc\n",
    "from prod.dmc import get_dmc\n",
    "from prod.isi import get_isi\n",
    "from prod.fwi import get_fwi"
   ]
  },
  {
   "cell_type": "code",
   "execution_count": 87,
   "metadata": {},
   "outputs": [],
   "source": [
    "def get_fwi(R, U):\n",
    "    \"\"\"\n",
    "    ISI = R, BUI = U\n",
    "    \"\"\"\n",
    "    fD = 1000/(25 + 108.64*np.exp(-0.023*U))\n",
    "\n",
    "    if (U > 80):\n",
    "        B = 0.1*R*fD\n",
    "    else: \n",
    "        B = 0.1*R*(0.626*np.power(U, 0.809) + 2)\n",
    "\n",
    "    if(B <= 1):\n",
    "        S = B\n",
    "    else:\n",
    "        S = np.exp(2.72*np.power(0.434*np.log(B), 0.647))\n",
    "\n",
    "    # NOTA: cualquier valor de FWI menor a 0.5 va a ser reportado como cero\n",
    "    if S < 0.5:\n",
    "        S = 0\n",
    "\n",
    "    return S\n"
   ]
  },
  {
   "cell_type": "code",
   "execution_count": 56,
   "metadata": {},
   "outputs": [],
   "source": [
    "F0 = 90.6\n",
    "T = 18\n",
    "H = 55\n",
    "W = 3\n",
    "r0 = 0\n",
    "date = '20210817'\n",
    "P0 = 16.7\n",
    "D0 = 235.689889238789"
   ]
  },
  {
   "cell_type": "code",
   "execution_count": null,
   "metadata": {},
   "outputs": [],
   "source": []
  },
  {
   "cell_type": "code",
   "execution_count": 43,
   "metadata": {},
   "outputs": [
    {
     "name": "stdout",
     "output_type": "stream",
     "text": [
      "Ew = 13.300365860522096 / Ed = 14.9930729108248 / k0 = 0.4349016032225891 / k= 0.48741469176954755\n"
     ]
    }
   ],
   "source": [
    "F = get_ffmc(H, T, W, F0, r0)"
   ]
  },
  {
   "cell_type": "code",
   "execution_count": 40,
   "metadata": {},
   "outputs": [
    {
     "data": {
      "text/plain": [
       "88.68032145390812"
      ]
     },
     "execution_count": 40,
     "metadata": {},
     "output_type": "execute_result"
    }
   ],
   "source": [
    "F"
   ]
  },
  {
   "cell_type": "code",
   "execution_count": 52,
   "metadata": {},
   "outputs": [],
   "source": [
    "P = get_dmc(date, T, H, P0, r0)"
   ]
  },
  {
   "cell_type": "code",
   "execution_count": 70,
   "metadata": {},
   "outputs": [
    {
     "data": {
      "text/plain": [
       "18.0347018"
      ]
     },
     "execution_count": 70,
     "metadata": {},
     "output_type": "execute_result"
    }
   ],
   "source": [
    "P"
   ]
  },
  {
   "cell_type": "code",
   "execution_count": 59,
   "metadata": {},
   "outputs": [],
   "source": [
    "D = get_dc(date, T, r0, D0)"
   ]
  },
  {
   "cell_type": "code",
   "execution_count": 71,
   "metadata": {},
   "outputs": [
    {
     "data": {
      "text/plain": [
       "238.63388923878898"
      ]
     },
     "execution_count": 71,
     "metadata": {},
     "output_type": "execute_result"
    }
   ],
   "source": [
    "D"
   ]
  },
  {
   "cell_type": "code",
   "execution_count": 66,
   "metadata": {},
   "outputs": [],
   "source": [
    "R = get_isi(F, W)"
   ]
  },
  {
   "cell_type": "code",
   "execution_count": 67,
   "metadata": {},
   "outputs": [
    {
     "data": {
      "text/plain": [
       "4.126559951393684"
      ]
     },
     "execution_count": 67,
     "metadata": {},
     "output_type": "execute_result"
    }
   ],
   "source": [
    "R"
   ]
  },
  {
   "cell_type": "code",
   "execution_count": 73,
   "metadata": {},
   "outputs": [],
   "source": [
    "U = get_bui(P, D)"
   ]
  },
  {
   "cell_type": "code",
   "execution_count": 74,
   "metadata": {},
   "outputs": [
    {
     "data": {
      "text/plain": [
       "30.337524792577565"
      ]
     },
     "execution_count": 74,
     "metadata": {},
     "output_type": "execute_result"
    }
   ],
   "source": [
    "U"
   ]
  },
  {
   "cell_type": "code",
   "execution_count": 76,
   "metadata": {},
   "outputs": [],
   "source": [
    "S = get_fwi(R, U)"
   ]
  },
  {
   "cell_type": "code",
   "execution_count": 77,
   "metadata": {},
   "outputs": [
    {
     "data": {
      "text/plain": [
       "10.207288989236334"
      ]
     },
     "execution_count": 77,
     "metadata": {},
     "output_type": "execute_result"
    }
   ],
   "source": [
    "S"
   ]
  },
  {
   "cell_type": "markdown",
   "metadata": {},
   "source": [
    "## pruebba de muchos valoires"
   ]
  },
  {
   "cell_type": "code",
   "execution_count": 88,
   "metadata": {},
   "outputs": [],
   "source": [
    "R = [12.2, 14.9, 16.7, 17.8, 18.5, 18.9, 19.1]\n",
    "U = [29.6, 30.0, 30.4, 30.8, 31.2, 31.6, 32,0]"
   ]
  },
  {
   "cell_type": "code",
   "execution_count": 89,
   "metadata": {},
   "outputs": [
    {
     "name": "stdout",
     "output_type": "stream",
     "text": [
      "19.763350301149877\n",
      "22.954541751198498\n",
      "25.023167712698342\n",
      "26.315554699202632\n",
      "27.186788869118\n",
      "27.752047357831124\n"
     ]
    }
   ],
   "source": [
    "for key in range(0,6):\n",
    "    print(get_fwi(R[key], U[key]))"
   ]
  },
  {
   "cell_type": "code",
   "execution_count": null,
   "metadata": {},
   "outputs": [],
   "source": []
  },
  {
   "cell_type": "code",
   "execution_count": 84,
   "metadata": {},
   "outputs": [],
   "source": [
    "P = [16.9, 17.1, 17.4, 17.6, 17.9, 18.1, 18.3, 18.6, 18.8, 19.1, 19.3, 19.5, 19.8, 20.0]\n",
    "D = [239.4, 243.1, 246.8, 250.5, 254.2, 257.9, 261.6, 265.3, 269.0, 272.7, 276.4, 280.1, 283.8, 287.5]"
   ]
  },
  {
   "cell_type": "code",
   "execution_count": 86,
   "metadata": {},
   "outputs": [
    {
     "name": "stdout",
     "output_type": "stream",
     "text": [
      "28.72969998224747\n",
      "29.08525450411055\n",
      "29.585394419565965\n",
      "29.940916808149407\n",
      "30.44107710319451\n",
      "30.796569355104737\n",
      "31.15197657393851\n",
      "31.65221295702374\n",
      "32.00759493670886\n",
      "32.50784833827431\n",
      "32.863206530109345\n",
      "33.218488672647105\n",
      "33.71881188118812\n",
      "34.074074074074076\n"
     ]
    }
   ],
   "source": [
    "for key in range(0,14):\n",
    "    print(get_bui(P[key], D[key]))"
   ]
  },
  {
   "cell_type": "code",
   "execution_count": null,
   "metadata": {},
   "outputs": [],
   "source": [
    "28,7\n",
    "29,1\n",
    "29,6\n",
    "30,0\n",
    "30,4\n",
    "30,8\n",
    "31,2\n",
    "31,6\n",
    "32,0\n",
    "32,4"
   ]
  }
 ],
 "metadata": {
  "kernelspec": {
   "display_name": "Python 3",
   "language": "python",
   "name": "python3"
  },
  "language_info": {
   "codemirror_mode": {
    "name": "ipython",
    "version": 3
   },
   "file_extension": ".py",
   "mimetype": "text/x-python",
   "name": "python",
   "nbconvert_exporter": "python",
   "pygments_lexer": "ipython3",
   "version": "3.8.5"
  }
 },
 "nbformat": 4,
 "nbformat_minor": 4
}
